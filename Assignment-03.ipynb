{
 "cells": [
  {
   "cell_type": "markdown",
   "id": "c238d25f",
   "metadata": {},
   "source": [
    "## program to count the number of even and odd numbers from a series of numbers."
   ]
  },
  {
   "cell_type": "code",
   "execution_count": 1,
   "id": "b3fc2b20",
   "metadata": {},
   "outputs": [
    {
     "name": "stdout",
     "output_type": "stream",
     "text": [
      "Number of even numbers :  4\n",
      "Number of odd numbers :  5\n"
     ]
    }
   ],
   "source": [
    "numbers = (1, 2, 3, 4, 5, 6, 7, 8, 9)\n",
    "count_even= 0\n",
    "count_odd= 0\n",
    "\n",
    "for i in numbers:\n",
    "    if i%2==0:\n",
    "        count_even+=1\n",
    "    else:\n",
    "        count_odd+=1\n",
    "print('Number of even numbers : ', count_even)\n",
    "print('Number of odd numbers : ', count_odd)"
   ]
  }
 ],
 "metadata": {
  "kernelspec": {
   "display_name": "Python 3 (ipykernel)",
   "language": "python",
   "name": "python3"
  },
  "language_info": {
   "codemirror_mode": {
    "name": "ipython",
    "version": 3
   },
   "file_extension": ".py",
   "mimetype": "text/x-python",
   "name": "python",
   "nbconvert_exporter": "python",
   "pygments_lexer": "ipython3",
   "version": "3.10.1"
  }
 },
 "nbformat": 4,
 "nbformat_minor": 5
}
