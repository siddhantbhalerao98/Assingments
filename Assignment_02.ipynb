{
 "cells": [
  {
   "cell_type": "markdown",
   "id": "9ee1da1e",
   "metadata": {},
   "source": [
    "## program that accepts a word from the user and reverse it."
   ]
  },
  {
   "cell_type": "code",
   "execution_count": 15,
   "id": "b7e4c22a",
   "metadata": {},
   "outputs": [
    {
     "name": "stdout",
     "output_type": "stream",
     "text": [
      "Output: adoydE\n"
     ]
    }
   ],
   "source": [
    "Input= 'Edyoda'\n",
    "\n",
    "Output= Input[::-1]\n",
    "\n",
    "print('Output:',Output)"
   ]
  },
  {
   "cell_type": "code",
   "execution_count": 16,
   "id": "d5b78c4a",
   "metadata": {},
   "outputs": [
    {
     "name": "stdout",
     "output_type": "stream",
     "text": [
      "Input:Edyoda\n",
      "Output: adoydE\n"
     ]
    }
   ],
   "source": [
    "Input= input('Input:')\n",
    "\n",
    "Output= Input[::-1]\n",
    "\n",
    "print('Output:',Output)"
   ]
  },
  {
   "cell_type": "code",
   "execution_count": 19,
   "id": "ccb14c33",
   "metadata": {},
   "outputs": [
    {
     "name": "stdout",
     "output_type": "stream",
     "text": [
      "adoydE"
     ]
    }
   ],
   "source": [
    "L1= 'Edyoda'\n",
    "\n",
    "for z in list(range(5,-1,-1)):\n",
    "    print(L1[z], end='')"
   ]
  }
 ],
 "metadata": {
  "kernelspec": {
   "display_name": "Python 3 (ipykernel)",
   "language": "python",
   "name": "python3"
  },
  "language_info": {
   "codemirror_mode": {
    "name": "ipython",
    "version": 3
   },
   "file_extension": ".py",
   "mimetype": "text/x-python",
   "name": "python",
   "nbconvert_exporter": "python",
   "pygments_lexer": "ipython3",
   "version": "3.10.1"
  }
 },
 "nbformat": 4,
 "nbformat_minor": 5
}
